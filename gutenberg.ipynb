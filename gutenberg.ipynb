{
 "cells": [
  {
   "attachments": {},
   "cell_type": "markdown",
   "metadata": {},
   "source": [
    "## Objetivo del proyecto: \n",
    "El propósito de este proyecto es poder elaborar un analisis exploratorio de\n",
    "los libros empleando diversos algoritmos que estudiamos durante el curso. Analisis estadísticos,\n",
    "algoritmos no supervisados y elementos de visualización serán sus principales herramientas para\n",
    "este analisis. Adicionalmente cualquier algoritmo o herramienta que no hayamos visto durante el\n",
    "curso es válida, sin embargo, es importante que conozcan el funcionamiento y puedan explicar lo\n",
    "que se está realizando con claridad.\n",
    "\n",
    "## Resultados del proyecto:\n",
    "Los elementos mínimos que su analisis debe cumplir son los siguientes:"
   ]
  },
  {
   "attachments": {},
   "cell_type": "markdown",
   "metadata": {},
   "source": [
    "1. Contestar los siguientes cuestionamientos<br>\n",
    "    a. ¿Cuántos y cuales son los idiomas que identificaron en los libros?<br>\n",
    "    b. ¿Cuántos libros tenemos por cada idioma?<br>\n",
    "    c. ¿Cuántos géneros tenemos?<br>\n",
    "        i. ¿Qué proceso utilizaron para identificar el (los) géneros del libro<br>\n",
    "    d. ¿Encontraron algún otro patrón o elemento que consideren importante mencionar\n",
    "en su analisis?<br>"
   ]
  },
  {
   "cell_type": "code",
   "execution_count": 1,
   "metadata": {},
   "outputs": [],
   "source": [
    "import pandas as pd\n",
    "import numpy as np\n",
    "import matplotlib.pyplot as plt"
   ]
  },
  {
   "cell_type": "code",
   "execution_count": null,
   "metadata": {},
   "outputs": [],
   "source": [
    "# Para poder analizar los datos preprocesamos los textos a un .csv con los campos \"campo: valor\" antes de *** START OF THE PROJECT GUTENBERG EBOOK <<TITLE>> **\n"
   ]
  },
  {
   "cell_type": "code",
   "execution_count": null,
   "metadata": {},
   "outputs": [],
   "source": [
    "# Separamos libros por idioma"
   ]
  },
  {
   "cell_type": "code",
   "execution_count": null,
   "metadata": {},
   "outputs": [],
   "source": [
    "# Hacemos análisis de texto por idimoa con textstat"
   ]
  },
  {
   "attachments": {},
   "cell_type": "markdown",
   "metadata": {},
   "source": [
    "2. Elemento de visualización<br>\n",
    "    a. ¿Cuáles son las palabras con mayor frecuencia en cada idioma?<br>\n",
    "    b. ¿Es posible agrupar los libros mediante cluster de tal forma que se ilustren los\n",
    "    grupos por idioma?<br>\n",
    "        i. De ser así genera una gráfica que ilustre esto<br>\n",
    "        ii. Caso contario explica el motivo<br>\n",
    "    c. Genera una grafica que ilustre la identificación de géneros en los libros"
   ]
  },
  {
   "cell_type": "code",
   "execution_count": null,
   "metadata": {},
   "outputs": [],
   "source": []
  }
 ],
 "metadata": {
  "kernelspec": {
   "display_name": "AprendizajeAutomatico",
   "language": "python",
   "name": "python3"
  },
  "language_info": {
   "codemirror_mode": {
    "name": "ipython",
    "version": 3
   },
   "file_extension": ".py",
   "mimetype": "text/x-python",
   "name": "python",
   "nbconvert_exporter": "python",
   "pygments_lexer": "ipython3",
   "version": "3.9.16"
  },
  "orig_nbformat": 4
 },
 "nbformat": 4,
 "nbformat_minor": 2
}
