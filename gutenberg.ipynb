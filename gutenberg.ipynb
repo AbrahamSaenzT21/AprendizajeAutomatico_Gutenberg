{
 "cells": [
  {
   "attachments": {},
   "cell_type": "markdown",
   "metadata": {},
   "source": [
    "## Objetivo del proyecto: \n",
    "El propósito de este proyecto es poder elaborar un analisis exploratorio de\n",
    "los libros empleando diversos algoritmos que estudiamos durante el curso. Analisis estadísticos,\n",
    "algoritmos no supervisados y elementos de visualización serán sus principales herramientas para\n",
    "este analisis. Adicionalmente cualquier algoritmo o herramienta que no hayamos visto durante el\n",
    "curso es válida, sin embargo, es importante que conozcan el funcionamiento y puedan explicar lo\n",
    "que se está realizando con claridad.\n",
    "\n",
    "## Resultados del proyecto:\n",
    "Los elementos mínimos que su analisis debe cumplir son los siguientes:"
   ]
  },
  {
   "attachments": {},
   "cell_type": "markdown",
   "metadata": {},
   "source": [
    "1. Contestar los siguientes cuestionamientos<br>\n",
    "    a. ¿Cuántos y cuales son los idiomas que identificaron en los libros?<br>\n",
    "    b. ¿Cuántos libros tenemos por cada idioma?<br>\n",
    "    c. ¿Cuántos géneros tenemos?<br>\n",
    "        i. ¿Qué proceso utilizaron para identificar el (los) géneros del libro<br>\n",
    "    d. ¿Encontraron algún otro patrón o elemento que consideren importante mencionar\n",
    "en su analisis?<br>"
   ]
  },
  {
   "cell_type": "code",
   "execution_count": null,
   "metadata": {},
   "outputs": [],
   "source": []
  },
  {
   "attachments": {},
   "cell_type": "markdown",
   "metadata": {},
   "source": [
    "2. Elemento de visualización\n",
    "    a. ¿Cuáles son las palabras con mayor frecuencia en cada idioma?<br>\n",
    "    b. ¿Es posible agrupar los libros mediante cluster de tal forma que se ilustren los\n",
    "    grupos por idioma?<br>\n",
    "        i. De ser así genera una gráfica que ilustre esto<br>\n",
    "        ii. Caso contario explica el motivo<br>\n",
    "    c. Genera una grafica que ilustre la identificación de géneros en los libros"
   ]
  },
  {
   "cell_type": "code",
   "execution_count": null,
   "metadata": {},
   "outputs": [],
   "source": []
  }
 ],
 "metadata": {
  "language_info": {
   "name": "python"
  },
  "orig_nbformat": 4
 },
 "nbformat": 4,
 "nbformat_minor": 2
}
